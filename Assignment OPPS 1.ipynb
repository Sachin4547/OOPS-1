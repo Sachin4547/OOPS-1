{
 "cells": [
  {
   "cell_type": "markdown",
   "id": "ccd4b114-db1b-4e49-ba50-6f5c4889f51f",
   "metadata": {},
   "source": [
    "Q1. Explain Class and Object with respect to Object-Oriented Programming. Give a suitable example."
   ]
  },
  {
   "cell_type": "code",
   "execution_count": 17,
   "id": "0256f6b3-3c51-4d61-a29f-b739922c7b73",
   "metadata": {},
   "outputs": [],
   "source": [
    "## class - classes are user defined data types that act as a blueprint for individual object,attributes and methods.\n",
    "##objects - objects are instance of class created with specially defined data type and object is collection of variable and methods."
   ]
  },
  {
   "cell_type": "code",
   "execution_count": 18,
   "id": "35d95a62-f61f-4520-8cd5-8e456a578d14",
   "metadata": {},
   "outputs": [],
   "source": [
    "class bike:\n",
    "    def __init__(self,bike_name,model,year,speed):\n",
    "        self.bike_name = bike_name\n",
    "        self.model = model\n",
    "        self.year = year\n",
    "        self.speed = speed"
   ]
  },
  {
   "cell_type": "code",
   "execution_count": 19,
   "id": "c7903ff5-afd4-46b4-b796-d97e1f84f288",
   "metadata": {},
   "outputs": [],
   "source": [
    "class_object=bike(\"bike\",\"2022\",\"2023\",100)"
   ]
  },
  {
   "cell_type": "markdown",
   "id": "08065955-231a-4699-9519-3911e95ede25",
   "metadata": {},
   "source": [
    "Q2. Name the four pillars of OOPs."
   ]
  },
  {
   "cell_type": "code",
   "execution_count": 20,
   "id": "26cad834-3383-40c4-8ab9-0ef6b13066eb",
   "metadata": {},
   "outputs": [],
   "source": [
    "##four pillars of oops are as follows:\n",
    "## 1.encapsulation\n",
    "## 2.abstraction\n",
    "## 3.polymorphism\n",
    "## 4.inheritance"
   ]
  },
  {
   "cell_type": "markdown",
   "id": "a387ff4a-1054-44ee-9ecf-e0f99b41fe14",
   "metadata": {},
   "source": [
    "Q3. Explain why the __init__() function is used. Give a suitable example."
   ]
  },
  {
   "cell_type": "code",
   "execution_count": 21,
   "id": "df01d88f-d507-4943-b517-48c6fa1b479a",
   "metadata": {},
   "outputs": [],
   "source": [
    "## __init__ function is called the constructor or initializer. the __init__ is called every time automaticaaly when a class is being used to create objects. the __init__ method lets the class initialize the object attributes ."
   ]
  },
  {
   "cell_type": "code",
   "execution_count": 22,
   "id": "bb6bdf02-bbdf-4b8c-a80e-b1cdf51e8076",
   "metadata": {},
   "outputs": [],
   "source": [
    "class bike:\n",
    "    def __init__(self,bike_name,model,year,speed):\n",
    "        self.bike_name = bike_name\n",
    "        self.model = model\n",
    "        self.year = year\n",
    "        self.speed = speed"
   ]
  },
  {
   "cell_type": "markdown",
   "id": "c6383ea8-eed6-48f5-a144-85819a62787c",
   "metadata": {},
   "source": [
    "Q4. Why self is used in OOPs?"
   ]
  },
  {
   "cell_type": "code",
   "execution_count": 23,
   "id": "b6ae56c8-0a7d-472a-867e-6a4ac73b4181",
   "metadata": {},
   "outputs": [],
   "source": [
    "## self represents the instance of class. by using self we can access the attributes and methods of class.it binds the attributes with given argument."
   ]
  },
  {
   "cell_type": "markdown",
   "id": "3238b351-ae20-48db-837a-9645911341ca",
   "metadata": {},
   "source": [
    "Q5. What is inheritance? Give an example for each type of inheritance."
   ]
  },
  {
   "cell_type": "code",
   "execution_count": 24,
   "id": "c881d258-5285-4833-acfe-9fc07279db07",
   "metadata": {},
   "outputs": [],
   "source": [
    "## inheritance is a mechanism in which one class acquire the property of another class. with inheritance we can use the ields and methods of existing class."
   ]
  },
  {
   "cell_type": "code",
   "execution_count": 25,
   "id": "2e12f359-12f1-4d0e-a0f9-dd91419a65d2",
   "metadata": {},
   "outputs": [],
   "source": [
    "## there are five type of inheritance:\n",
    "## 1.single inheritance\n",
    "## 2.multiple inheritance\n",
    "## 3.multilevel inheritance\n",
    "## 4.hierarchical inheritance\n",
    "## 5.hybrid inheritance"
   ]
  },
  {
   "cell_type": "code",
   "execution_count": 26,
   "id": "15a9a894-45e2-487e-931e-138048c56996",
   "metadata": {},
   "outputs": [],
   "source": [
    "##single inheritance\n",
    "class parent:\n",
    "    def func1(self):\n",
    "        print(\"this function is in parent class\")\n",
    "class child(parent):\n",
    "    def func2(self):\n",
    "        print(\"this is function in child class\")"
   ]
  },
  {
   "cell_type": "code",
   "execution_count": 27,
   "id": "40bfe049-ca31-4b05-98e2-4d8efb210e34",
   "metadata": {},
   "outputs": [
    {
     "name": "stdout",
     "output_type": "stream",
     "text": [
      "this function is in parent class\n"
     ]
    }
   ],
   "source": [
    "object = child()\n",
    "object.func1()"
   ]
  },
  {
   "cell_type": "code",
   "execution_count": 28,
   "id": "8eaf2314-119c-4051-9397-7397b521e706",
   "metadata": {},
   "outputs": [
    {
     "name": "stdout",
     "output_type": "stream",
     "text": [
      "this is function in child class\n"
     ]
    }
   ],
   "source": [
    "object.func2()"
   ]
  },
  {
   "cell_type": "code",
   "execution_count": 29,
   "id": "59192d5b-b71f-4a8b-998c-27e9c8615a79",
   "metadata": {},
   "outputs": [],
   "source": [
    "##multiple inheritance:\n",
    "class mother:\n",
    "    mothername=\"\"\n",
    "    def Mother(self):\n",
    "        print(self.mothername)\n",
    "\n",
    "class father:\n",
    "    fathername=\"\"\n",
    "    \n",
    "    def father(self):\n",
    "        print(self.fathername)\n",
    "\n",
    "class son(mother,father):\n",
    "    def parent(self):\n",
    "        print(\"father:\",self.fathername)\n",
    "        print(\"mother:\",self.mothername)"
   ]
  },
  {
   "cell_type": "code",
   "execution_count": 30,
   "id": "8ccd6166-6a83-477e-98de-6c8c5dd08e3d",
   "metadata": {},
   "outputs": [],
   "source": [
    "s1 =son()"
   ]
  },
  {
   "cell_type": "code",
   "execution_count": 31,
   "id": "94743232-62bd-4f4a-98f2-1fabc6e7b6ba",
   "metadata": {},
   "outputs": [],
   "source": [
    "s1.fathername=\"Ram\""
   ]
  },
  {
   "cell_type": "code",
   "execution_count": 32,
   "id": "294ac8b5-41e6-42e3-9efa-47442b47391a",
   "metadata": {},
   "outputs": [],
   "source": [
    "s1.mothername=\"Sita\""
   ]
  },
  {
   "cell_type": "code",
   "execution_count": 34,
   "id": "19010943-db17-4f24-b66a-c70e157550f0",
   "metadata": {},
   "outputs": [
    {
     "name": "stdout",
     "output_type": "stream",
     "text": [
      "father: Ram\n",
      "mother: Sita\n"
     ]
    }
   ],
   "source": [
    "s1.parent()"
   ]
  },
  {
   "cell_type": "code",
   "execution_count": 36,
   "id": "d17d8b99-7e3a-4ee7-8a04-4efd9bdf0a9e",
   "metadata": {},
   "outputs": [],
   "source": [
    "## Multilevel inheritane\n",
    "class class1:\n",
    "    def class4(self):\n",
    "        return \"this is function for class1\"\n",
    "\n",
    "class class2(class1):\n",
    "    def class6(self):\n",
    "        return\"this is function of class2\"\n",
    "\n",
    "class class3(class2):\n",
    "    pass"
   ]
  },
  {
   "cell_type": "code",
   "execution_count": 37,
   "id": "2e5329a9-aac8-40d9-88b4-4bfe636628aa",
   "metadata": {},
   "outputs": [],
   "source": [
    "class_object=class3()"
   ]
  },
  {
   "cell_type": "code",
   "execution_count": 38,
   "id": "5492da29-998f-4fae-a488-1e5456f232ea",
   "metadata": {},
   "outputs": [
    {
     "data": {
      "text/plain": [
       "'this is function for class1'"
      ]
     },
     "execution_count": 38,
     "metadata": {},
     "output_type": "execute_result"
    }
   ],
   "source": [
    "class_object.class4()"
   ]
  },
  {
   "cell_type": "code",
   "execution_count": 39,
   "id": "d71d414e-3585-41f6-9665-ca846da980a8",
   "metadata": {},
   "outputs": [
    {
     "data": {
      "text/plain": [
       "'this is function of class2'"
      ]
     },
     "execution_count": 39,
     "metadata": {},
     "output_type": "execute_result"
    }
   ],
   "source": [
    "class_object.class6()"
   ]
  },
  {
   "cell_type": "code",
   "execution_count": 40,
   "id": "dccc04c2-2435-4a5d-8940-104303b6ee49",
   "metadata": {},
   "outputs": [],
   "source": [
    "## Hierarchical\n",
    "class CLASSA:\n",
    "    def function_1(self):\n",
    "        print(\"parent of class B and C\")\n",
    "\n",
    "class B(CLASSA):\n",
    "    def function_2(self):\n",
    "        print(\"child class of A\")\n",
    "\n",
    "class C(CLASSA):\n",
    "    def function_3(self):\n",
    "        print(\"parent class of A\")"
   ]
  },
  {
   "cell_type": "code",
   "execution_count": 47,
   "id": "607b6450-0d7d-4924-8b14-c196ec196264",
   "metadata": {},
   "outputs": [],
   "source": [
    "object_b = B()"
   ]
  },
  {
   "cell_type": "code",
   "execution_count": 48,
   "id": "49250eb8-879a-4ee7-b53d-b7f14619d4b2",
   "metadata": {},
   "outputs": [],
   "source": [
    "object_c = C()"
   ]
  },
  {
   "cell_type": "code",
   "execution_count": 49,
   "id": "bf7a46e5-a03b-4e54-a556-e0b40cf9fe6c",
   "metadata": {},
   "outputs": [
    {
     "name": "stdout",
     "output_type": "stream",
     "text": [
      "parent of class B and C\n"
     ]
    }
   ],
   "source": [
    "object_b.function_1()"
   ]
  },
  {
   "cell_type": "code",
   "execution_count": 50,
   "id": "7d4ff215-de3c-4096-b869-912729660533",
   "metadata": {},
   "outputs": [
    {
     "name": "stdout",
     "output_type": "stream",
     "text": [
      "parent of class B and C\n"
     ]
    }
   ],
   "source": [
    "object_c.function_1()"
   ]
  },
  {
   "cell_type": "code",
   "execution_count": 52,
   "id": "21bd3e8c-7163-488c-ace2-ade97e9a6d4d",
   "metadata": {},
   "outputs": [],
   "source": [
    "## Hybrid inheritance :\n",
    "class office:\n",
    "    def class1(self):\n",
    "        print(\"this function is in office\")\n",
    "class employee_1(office):\n",
    "    def employee(self):\n",
    "        print(\"this function is in employee\")\n",
    "class chairman:\n",
    "    def chair(self):\n",
    "            print(\"this funciton is in chairman\")\n",
    "class head(employee_1,chairman):\n",
    "    pass\n",
    "      "
   ]
  },
  {
   "cell_type": "code",
   "execution_count": 53,
   "id": "31f97358-9467-425c-b249-8952af89b881",
   "metadata": {},
   "outputs": [],
   "source": [
    "object = head()"
   ]
  },
  {
   "cell_type": "code",
   "execution_count": 54,
   "id": "148bb477-f66e-4944-a14f-f02679f796b3",
   "metadata": {},
   "outputs": [
    {
     "name": "stdout",
     "output_type": "stream",
     "text": [
      "this function is in employee\n"
     ]
    }
   ],
   "source": [
    "object.employee()"
   ]
  },
  {
   "cell_type": "code",
   "execution_count": 55,
   "id": "f5e1282a-af53-457d-be56-24312651e838",
   "metadata": {},
   "outputs": [
    {
     "name": "stdout",
     "output_type": "stream",
     "text": [
      "this function is in office\n"
     ]
    }
   ],
   "source": [
    "object.class1()"
   ]
  },
  {
   "cell_type": "code",
   "execution_count": null,
   "id": "6fdff6b2-0ec2-4224-8f7b-4550e10b602a",
   "metadata": {},
   "outputs": [],
   "source": []
  }
 ],
 "metadata": {
  "kernelspec": {
   "display_name": "Python 3 (ipykernel)",
   "language": "python",
   "name": "python3"
  },
  "language_info": {
   "codemirror_mode": {
    "name": "ipython",
    "version": 3
   },
   "file_extension": ".py",
   "mimetype": "text/x-python",
   "name": "python",
   "nbconvert_exporter": "python",
   "pygments_lexer": "ipython3",
   "version": "3.10.8"
  }
 },
 "nbformat": 4,
 "nbformat_minor": 5
}
